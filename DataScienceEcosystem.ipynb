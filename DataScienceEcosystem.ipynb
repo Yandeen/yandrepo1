{
 "cells": [
  {
   "cell_type": "markdown",
   "id": "fa4e9a66",
   "metadata": {},
   "source": [
    "# Data Science Tools and Ecosystem"
   ]
  },
  {
   "cell_type": "markdown",
   "id": "0a8366dd",
   "metadata": {},
   "source": [
    "In this notebook, Data Science Tools and Ecosystem are summarized."
   ]
  },
  {
   "cell_type": "markdown",
   "id": "382a278a",
   "metadata": {},
   "source": [
    "Some of the popular languages that Data Scientists use are:\n",
    "1. Python\n",
    "1. R\n",
    "1. SQL"
   ]
  },
  {
   "cell_type": "markdown",
   "id": "bae0b5ae",
   "metadata": {},
   "source": [
    "Some of the commonly used libraries used by Data Scientists include for example in python :\n",
    "1. Pandas for data manipulation\n",
    "1. NumPy for arrays and matrices\n",
    "1. Matplotlib for visualization\n",
    "1. Scikit-learn for ML\n",
    "1. Keras for Deep learning\n"
   ]
  },
  {
   "cell_type": "markdown",
   "id": "ff9df641",
   "metadata": {},
   "source": [
    "| Data Science Tools |\n",
    "------------------------------\n",
    "|Jupyter lab|\n",
    "|Jupyter notebook|\n",
    "|Apache zapelin|"
   ]
  },
  {
   "cell_type": "markdown",
   "id": "b29ac544",
   "metadata": {},
   "source": [
    "### Below are a few examples of evaluating arithmetic expressions in Python"
   ]
  },
  {
   "cell_type": "code",
   "execution_count": 8,
   "id": "139c00f5",
   "metadata": {},
   "outputs": [
    {
     "data": {
      "text/plain": [
       "17"
      ]
     },
     "execution_count": 8,
     "metadata": {},
     "output_type": "execute_result"
    }
   ],
   "source": [
    "# This a simple arithmetic expression to mutiply then add integers\n",
    "(3*4)+5"
   ]
  },
  {
   "cell_type": "code",
   "execution_count": 9,
   "id": "17ff27fd",
   "metadata": {},
   "outputs": [
    {
     "data": {
      "text/plain": [
       "3.3333333333333335"
      ]
     },
     "execution_count": 9,
     "metadata": {},
     "output_type": "execute_result"
    }
   ],
   "source": [
    "# This will convert 200 minutes to hours by diving by 60\n",
    "200/60"
   ]
  },
  {
   "cell_type": "markdown",
   "id": "ec593fc9",
   "metadata": {},
   "source": [
    "Objectives:\n",
    "+ List popular languages for Data Science\n",
    "+ List popular DS libraries\n",
    "+ Doing few calculations\n",
    "+ Experimenting marcdown feature"
   ]
  },
  {
   "cell_type": "markdown",
   "id": "563661eb",
   "metadata": {},
   "source": [
    "## Author\n",
    "\n",
    "Nourou-Dine YESSOUFOU"
   ]
  },
  {
   "cell_type": "code",
   "execution_count": null,
   "id": "32de3392",
   "metadata": {},
   "outputs": [],
   "source": []
  },
  {
   "cell_type": "code",
   "execution_count": null,
   "id": "70a23aca",
   "metadata": {},
   "outputs": [],
   "source": []
  }
 ],
 "metadata": {
  "kernelspec": {
   "display_name": "Python 3 (ipykernel)",
   "language": "python",
   "name": "python3"
  },
  "language_info": {
   "codemirror_mode": {
    "name": "ipython",
    "version": 3
   },
   "file_extension": ".py",
   "mimetype": "text/x-python",
   "name": "python",
   "nbconvert_exporter": "python",
   "pygments_lexer": "ipython3",
   "version": "3.11.3"
  }
 },
 "nbformat": 4,
 "nbformat_minor": 5
}
